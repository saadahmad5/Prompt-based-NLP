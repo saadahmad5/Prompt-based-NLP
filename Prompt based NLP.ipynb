{
 "cells": [
  {
   "cell_type": "markdown",
   "id": "cf3fbf38",
   "metadata": {},
   "source": [
    "### Imports"
   ]
  },
  {
   "cell_type": "code",
   "execution_count": 1,
   "id": "86584411",
   "metadata": {},
   "outputs": [],
   "source": [
    "from transformers import Trainer, AutoTokenizer, AutoModelForMaskedLM\n",
    "import torch"
   ]
  },
  {
   "cell_type": "markdown",
   "id": "00054e85",
   "metadata": {},
   "source": [
    "### Implementation"
   ]
  },
  {
   "cell_type": "code",
   "execution_count": 2,
   "id": "b89bddb7",
   "metadata": {},
   "outputs": [],
   "source": [
    "#model_under_use = 'microsoft/MiniLM-L12-H384-uncased'\n",
    "model_under_use = 'bert-base-uncased'"
   ]
  },
  {
   "cell_type": "code",
   "execution_count": 3,
   "id": "941c948d",
   "metadata": {},
   "outputs": [],
   "source": [
    "class Prompt(object):\n",
    "    def __init__(self, model):\n",
    "        self.model = AutoModelForMaskedLM.from_pretrained(model)\n",
    "        self.tokenizer = AutoTokenizer.from_pretrained(model)\n",
    "        \n",
    "    def prompt(self, prompt_text):\n",
    "        tokens = self.tokenizer(prompt_text, return_tensors=\"pt\").input_ids\n",
    "        text = self.tokenizer.convert_ids_to_tokens(tokens[0])\n",
    "        mask_position = text.index(self.tokenizer.mask_token)\n",
    "        self.model.eval()\n",
    "        with torch.no_grad():\n",
    "            outputs = self.model(tokens)\n",
    "            predictions = outputs[0]\n",
    "        values, indices = torch.sort(predictions[0, mask_position], descending=True)\n",
    "        result = list(self.tokenizer.convert_ids_to_tokens(indices))\n",
    "\n",
    "        print(prompt_text.replace('[MASK]', '_____'))\n",
    "        return result[:10]"
   ]
  },
  {
   "cell_type": "code",
   "execution_count": 4,
   "id": "3411c3a1",
   "metadata": {},
   "outputs": [
    {
     "name": "stderr",
     "output_type": "stream",
     "text": [
      "Some weights of the model checkpoint at bert-base-uncased were not used when initializing BertForMaskedLM: ['cls.seq_relationship.weight', 'cls.seq_relationship.bias']\n",
      "- This IS expected if you are initializing BertForMaskedLM from the checkpoint of a model trained on another task or with another architecture (e.g. initializing a BertForSequenceClassification model from a BertForPreTraining model).\n",
      "- This IS NOT expected if you are initializing BertForMaskedLM from the checkpoint of a model that you expect to be exactly identical (initializing a BertForSequenceClassification model from a BertForSequenceClassification model).\n"
     ]
    }
   ],
   "source": [
    "prompt = Prompt(model_under_use)"
   ]
  },
  {
   "cell_type": "markdown",
   "id": "c9aea1a9",
   "metadata": {},
   "source": [
    "### The 10 example sentences as Professor mentioned"
   ]
  },
  {
   "cell_type": "code",
   "execution_count": 5,
   "id": "896d0b1d",
   "metadata": {},
   "outputs": [
    {
     "name": "stdout",
     "output_type": "stream",
     "text": [
      "I loved it so much I bought three. I thought it was _____.\n"
     ]
    },
    {
     "data": {
      "text/plain": [
       "['perfect',\n",
       " 'amazing',\n",
       " 'beautiful',\n",
       " 'cute',\n",
       " 'great',\n",
       " 'awesome',\n",
       " 'cool',\n",
       " 'nice',\n",
       " 'pretty',\n",
       " 'good']"
      ]
     },
     "execution_count": 5,
     "metadata": {},
     "output_type": "execute_result"
    }
   ],
   "source": [
    "text = 'I loved it so much I bought three. I thought it was [MASK].'\n",
    "prompt.prompt(text)"
   ]
  },
  {
   "cell_type": "code",
   "execution_count": 6,
   "id": "ddae82c9",
   "metadata": {},
   "outputs": [
    {
     "name": "stdout",
     "output_type": "stream",
     "text": [
      "I want to eat some food because I am _____.\n"
     ]
    },
    {
     "data": {
      "text/plain": [
       "['hungry',\n",
       " 'starving',\n",
       " 'tired',\n",
       " 'thirsty',\n",
       " 'starved',\n",
       " 'exhausted',\n",
       " 'sick',\n",
       " 'eating',\n",
       " 'nervous',\n",
       " 'weak']"
      ]
     },
     "execution_count": 6,
     "metadata": {},
     "output_type": "execute_result"
    }
   ],
   "source": [
    "text1 = 'I want to eat some food because I am [MASK].'\n",
    "prompt.prompt(text1)"
   ]
  },
  {
   "cell_type": "code",
   "execution_count": 7,
   "id": "7f5bd6bb",
   "metadata": {},
   "outputs": [
    {
     "name": "stdout",
     "output_type": "stream",
     "text": [
      "I did not like the movie because it was _____.\n"
     ]
    },
    {
     "data": {
      "text/plain": [
       "['bad',\n",
       " 'funny',\n",
       " 'scary',\n",
       " 'boring',\n",
       " 'good',\n",
       " 'dark',\n",
       " 'awful',\n",
       " 'creepy',\n",
       " 'short',\n",
       " 'ridiculous']"
      ]
     },
     "execution_count": 7,
     "metadata": {},
     "output_type": "execute_result"
    }
   ],
   "source": [
    "text2 = 'I did not like the movie because it was [MASK].'\n",
    "prompt.prompt(text2)"
   ]
  },
  {
   "cell_type": "code",
   "execution_count": 8,
   "id": "3167c4b9",
   "metadata": {},
   "outputs": [
    {
     "name": "stdout",
     "output_type": "stream",
     "text": [
      "I bought a new car because my previous car was _____.\n"
     ]
    },
    {
     "data": {
      "text/plain": [
       "['gone',\n",
       " 'stolen',\n",
       " 'broken',\n",
       " 'dead',\n",
       " 'new',\n",
       " 'empty',\n",
       " 'sold',\n",
       " 'ruined',\n",
       " 'destroyed',\n",
       " 'damaged']"
      ]
     },
     "execution_count": 8,
     "metadata": {},
     "output_type": "execute_result"
    }
   ],
   "source": [
    "text3 = 'I bought a new car because my previous car was [MASK].'\n",
    "prompt.prompt(text3)"
   ]
  },
  {
   "cell_type": "code",
   "execution_count": 9,
   "id": "c6223d8a",
   "metadata": {},
   "outputs": [
    {
     "name": "stdout",
     "output_type": "stream",
     "text": [
      "I cannot find my _____ because I lost them.\n"
     ]
    },
    {
     "data": {
      "text/plain": [
       "['parents',\n",
       " 'friends',\n",
       " 'brothers',\n",
       " 'words',\n",
       " 'sisters',\n",
       " 'children',\n",
       " 'feet',\n",
       " 'family',\n",
       " 'memories',\n",
       " 'thoughts']"
      ]
     },
     "execution_count": 9,
     "metadata": {},
     "output_type": "execute_result"
    }
   ],
   "source": [
    "text4 = 'I cannot find my [MASK] because I lost them.'\n",
    "prompt.prompt(text4)"
   ]
  },
  {
   "cell_type": "code",
   "execution_count": 10,
   "id": "41b6d77b",
   "metadata": {},
   "outputs": [
    {
     "name": "stdout",
     "output_type": "stream",
     "text": [
      "I am taking my day off due to _____.\n"
     ]
    },
    {
     "data": {
      "text/plain": [
       "['work',\n",
       " 'stress',\n",
       " 'exhaustion',\n",
       " 'school',\n",
       " 'it',\n",
       " 'business',\n",
       " 'fatigue',\n",
       " 'this',\n",
       " 'pregnancy',\n",
       " 'cancer']"
      ]
     },
     "execution_count": 10,
     "metadata": {},
     "output_type": "execute_result"
    }
   ],
   "source": [
    "text5 = 'I am taking my day off due to [MASK].'\n",
    "prompt.prompt(text5)"
   ]
  },
  {
   "cell_type": "code",
   "execution_count": 11,
   "id": "fb63d83e",
   "metadata": {},
   "outputs": [
    {
     "name": "stdout",
     "output_type": "stream",
     "text": [
      "I would like to visit Europe because I heard it is _____!\n"
     ]
    },
    {
     "data": {
      "text/plain": [
       "['beautiful',\n",
       " 'possible',\n",
       " 'happening',\n",
       " 'wonderful',\n",
       " 'coming',\n",
       " 'dangerous',\n",
       " 'lovely',\n",
       " 'europe',\n",
       " 'great',\n",
       " 'exciting']"
      ]
     },
     "execution_count": 11,
     "metadata": {},
     "output_type": "execute_result"
    }
   ],
   "source": [
    "text6 = 'I would like to visit Europe because I heard it is [MASK]!'\n",
    "prompt.prompt(text6)"
   ]
  },
  {
   "cell_type": "code",
   "execution_count": 12,
   "id": "679dd753",
   "metadata": {},
   "outputs": [
    {
     "name": "stdout",
     "output_type": "stream",
     "text": [
      "I cannot do my _____ because I am so busy.\n"
     ]
    },
    {
     "data": {
      "text/plain": [
       "['job',\n",
       " 'homework',\n",
       " 'work',\n",
       " 'thing',\n",
       " 'best',\n",
       " 'chores',\n",
       " 'jobs',\n",
       " 'business',\n",
       " 'laundry',\n",
       " 'duty']"
      ]
     },
     "execution_count": 12,
     "metadata": {},
     "output_type": "execute_result"
    }
   ],
   "source": [
    "text7 = 'I cannot do my [MASK] because I am so busy.'\n",
    "prompt.prompt(text7)"
   ]
  },
  {
   "cell_type": "code",
   "execution_count": 13,
   "id": "8008a011",
   "metadata": {},
   "outputs": [
    {
     "name": "stdout",
     "output_type": "stream",
     "text": [
      "Yesterday was a big day because of my _____.\n"
     ]
    },
    {
     "data": {
      "text/plain": [
       "['father',\n",
       " 'parents',\n",
       " 'dad',\n",
       " 'mother',\n",
       " 'family',\n",
       " 'job',\n",
       " 'mom',\n",
       " 'work',\n",
       " 'birthday',\n",
       " 'brother']"
      ]
     },
     "execution_count": 13,
     "metadata": {},
     "output_type": "execute_result"
    }
   ],
   "source": [
    "text8 = 'Yesterday was a big day because of my [MASK].'\n",
    "prompt.prompt(text8)"
   ]
  },
  {
   "cell_type": "code",
   "execution_count": 14,
   "id": "57b9f860",
   "metadata": {},
   "outputs": [
    {
     "name": "stdout",
     "output_type": "stream",
     "text": [
      "I am going to the market to buy some _____.\n"
     ]
    },
    {
     "data": {
      "text/plain": [
       "['food',\n",
       " 'clothes',\n",
       " 'things',\n",
       " 'coffee',\n",
       " 'fruit',\n",
       " 'stuff',\n",
       " 'fish',\n",
       " 'wine',\n",
       " 'vegetables',\n",
       " 'supplies']"
      ]
     },
     "execution_count": 14,
     "metadata": {},
     "output_type": "execute_result"
    }
   ],
   "source": [
    "text9 = 'I am going to the market to buy some [MASK].'\n",
    "prompt.prompt(text9)"
   ]
  },
  {
   "cell_type": "code",
   "execution_count": 15,
   "id": "78519171",
   "metadata": {},
   "outputs": [
    {
     "name": "stdout",
     "output_type": "stream",
     "text": [
      "I liked and proposed her because she was _____.\n"
     ]
    },
    {
     "data": {
      "text/plain": [
       "['beautiful',\n",
       " 'mine',\n",
       " 'different',\n",
       " 'amazing',\n",
       " 'hot',\n",
       " 'perfect',\n",
       " 'special',\n",
       " 'pretty',\n",
       " 'gorgeous',\n",
       " 'nice']"
      ]
     },
     "execution_count": 15,
     "metadata": {},
     "output_type": "execute_result"
    }
   ],
   "source": [
    "text10 = 'I liked and proposed her because she was [MASK].'\n",
    "prompt.prompt(text10)"
   ]
  }
 ],
 "metadata": {
  "kernelspec": {
   "display_name": "Python 3 (ipykernel)",
   "language": "python",
   "name": "python3"
  },
  "language_info": {
   "codemirror_mode": {
    "name": "ipython",
    "version": 3
   },
   "file_extension": ".py",
   "mimetype": "text/x-python",
   "name": "python",
   "nbconvert_exporter": "python",
   "pygments_lexer": "ipython3",
   "version": "3.9.7"
  }
 },
 "nbformat": 4,
 "nbformat_minor": 5
}
